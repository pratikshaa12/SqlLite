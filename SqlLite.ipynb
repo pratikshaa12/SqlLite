{
 "cells": [
  {
   "cell_type": "code",
   "execution_count": 1,
   "id": "70c3b638-9e91-495f-819d-a115c96d1762",
   "metadata": {},
   "outputs": [],
   "source": [
    "import sqlite3"
   ]
  },
  {
   "cell_type": "code",
   "execution_count": 2,
   "id": "e8109f92-0701-4b6a-b3cb-6b6bb8f8c8cc",
   "metadata": {},
   "outputs": [
    {
     "data": {
      "text/plain": [
       "<sqlite3.Cursor at 0x1f36ace1040>"
      ]
     },
     "execution_count": 2,
     "metadata": {},
     "output_type": "execute_result"
    }
   ],
   "source": [
    "# connecting with the database\n",
    "db = sqlite3.connect(\"my_database1.db\")\n",
    "# drop table if it already exist using execute() method\n",
    "db.execute(\"drop table if exists grades1\")\n",
    "# create table as per requirement\n",
    "db.execute(\"create table grades1(id int, name text, score int)\")\n",
    "# inserting values inside the created table \n",
    "db.execute(\"insert into grades1(id,name,score) values(101, 'John',99)\")\n",
    "db.execute(\"insert into grades1(id,name,score) values(102, 'Gary',90)\")\n",
    "db.execute(\"insert into grades1(id,name,score) values(103, 'James',80)\")\n",
    "db.execute(\"insert into grades1(id,name,score) values(104, 'Cathy',85)\")\n",
    "db.execute(\"insert into grades1(id,name,score) values(105, 'Kris',95)\")\n",
    "\n"
   ]
  },
  {
   "cell_type": "code",
   "execution_count": 4,
   "id": "ef7aa3bc-7c00-4139-a5a0-3c669779723c",
   "metadata": {},
   "outputs": [],
   "source": [
    "db.commit() #db.commit() commits (saves) all the changes made during the current transaction."
   ]
  },
  {
   "cell_type": "code",
   "execution_count": 5,
   "id": "1952d112-d481-470d-ac3c-97fe0b653ad8",
   "metadata": {},
   "outputs": [
    {
     "name": "stdout",
     "output_type": "stream",
     "text": [
      "(101, 'John', 99)\n",
      "(102, 'Gary', 90)\n",
      "(103, 'James', 80)\n",
      "(104, 'Cathy', 85)\n",
      "(105, 'Kris', 95)\n",
      "------------------------------------------------------------\n"
     ]
    }
   ],
   "source": [
    "results = db.execute(\"select * from grades1 order by id\")# This query will return all rows from the grades1 table, but sorted by the id column in ascending order.\n",
    "for row in results:\n",
    "    print(row)\n",
    "print(\"-\" * 60)"
   ]
  },
  {
   "cell_type": "code",
   "execution_count": 6,
   "id": "f07be62e-8a8b-431f-b8b4-27aac0d710f7",
   "metadata": {},
   "outputs": [
    {
     "name": "stdout",
     "output_type": "stream",
     "text": [
      "(102, 'Gary', 90)\n",
      "------------------------------------------------------------\n"
     ]
    }
   ],
   "source": [
    "results = db.execute(\"select * from grades1 where name='Gary' \") #This query retrieves all rows (*) from the grades1 table where the name column is equal to 'Gary'.\n",
    "for row in results:\n",
    "    print(row)\n",
    "print(\"-\" * 60)"
   ]
  },
  {
   "cell_type": "code",
   "execution_count": 7,
   "id": "5ff6b5a0-d95f-4ebb-be03-b2d4a8abbfb7",
   "metadata": {},
   "outputs": [
    {
     "name": "stdout",
     "output_type": "stream",
     "text": [
      "(101, 'John', 99)\n",
      "(102, 'Gary', 90)\n",
      "(105, 'Kris', 95)\n",
      "------------------------------------------------------------\n"
     ]
    }
   ],
   "source": [
    "results = db.execute(\"select * from grades1 where score >= 90 \") #This query retrieves all rows (*) from the grades1 table where the value in the score column is greater than or equal to 90.\n",
    "for row in results:\n",
    "    print(row)\n",
    "print(\"-\" * 60)"
   ]
  },
  {
   "cell_type": "code",
   "execution_count": 8,
   "id": "c467864a-9d54-4d1a-81eb-e12ed0f7c5da",
   "metadata": {},
   "outputs": [
    {
     "name": "stdout",
     "output_type": "stream",
     "text": [
      "('John', 99)\n",
      "('Kris', 95)\n",
      "('Gary', 90)\n",
      "('Cathy', 85)\n",
      "('James', 80)\n",
      "------------------------------------------------------------\n"
     ]
    }
   ],
   "source": [
    "results = db.execute(\"select name, score from grades1 order by score desc \")  #This query retrieves all rows (*) from the table grades1 and orders them by the values in the id column, in ascending order.\n",
    "for row in results:\n",
    "    print(row)\n",
    "print(\"-\" * 60)"
   ]
  },
  {
   "cell_type": "code",
   "execution_count": 10,
   "id": "c2a9417c-489a-4e8a-8d36-19cd0eee77c3",
   "metadata": {},
   "outputs": [
    {
     "name": "stdout",
     "output_type": "stream",
     "text": [
      "('James', 80)\n",
      "('Cathy', 85)\n",
      "('Gary', 90)\n",
      "('Kris', 95)\n",
      "('John', 99)\n",
      "------------------------------------------------------------\n"
     ]
    }
   ],
   "source": [
    "results = db.execute(\"select name, score from grades1 order by score asc \") \n",
    "for row in results:\n",
    "    print(row)\n",
    "print(\"-\" * 60)"
   ]
  },
  {
   "cell_type": "code",
   "execution_count": null,
   "id": "d8d9238d-c5f2-4736-a867-313d66576c80",
   "metadata": {},
   "outputs": [],
   "source": []
  },
  {
   "cell_type": "code",
   "execution_count": null,
   "id": "bea2b6f6-f953-469b-8eaa-23a3389d4cad",
   "metadata": {},
   "outputs": [],
   "source": []
  },
  {
   "cell_type": "code",
   "execution_count": null,
   "id": "e3e50c4e-6f30-48e5-8ae3-00418a7ffb64",
   "metadata": {},
   "outputs": [],
   "source": []
  }
 ],
 "metadata": {
  "kernelspec": {
   "display_name": "Python 3 (ipykernel)",
   "language": "python",
   "name": "python3"
  },
  "language_info": {
   "codemirror_mode": {
    "name": "ipython",
    "version": 3
   },
   "file_extension": ".py",
   "mimetype": "text/x-python",
   "name": "python",
   "nbconvert_exporter": "python",
   "pygments_lexer": "ipython3",
   "version": "3.11.7"
  }
 },
 "nbformat": 4,
 "nbformat_minor": 5
}
